{
 "cells": [
  {
   "cell_type": "code",
   "execution_count": 1,
   "id": "63b987d7",
   "metadata": {
    "execution": {
     "iopub.execute_input": "2022-01-23T10:51:31.675130Z",
     "iopub.status.busy": "2022-01-23T10:51:31.674515Z",
     "iopub.status.idle": "2022-01-23T10:51:33.699443Z",
     "shell.execute_reply": "2022-01-23T10:51:33.700801Z",
     "shell.execute_reply.started": "2022-01-23T10:31:09.861737Z"
    },
    "papermill": {
     "duration": 2.067485,
     "end_time": "2022-01-23T10:51:33.701160",
     "exception": false,
     "start_time": "2022-01-23T10:51:31.633675",
     "status": "completed"
    },
    "tags": []
   },
   "outputs": [],
   "source": [
    "import pandas as pd\n",
    "import numpy as np\n",
    "import matplotlib.pyplot as plt\n",
    "from lightgbm import LGBMRegressor\n",
    "from catboost import CatBoostRegressor\n",
    "from scipy.stats import pearsonr\n",
    "import seaborn as sns\n",
    "from tqdm.auto import tqdm\n",
    "import time\n",
    "\n",
    "import warnings\n",
    "import lightgbm as lgb\n",
    "import pickle\n",
    "modelpath = './catM'\n",
    "\n"
   ]
  },
  {
   "cell_type": "code",
   "execution_count": 2,
   "id": "56e2969e",
   "metadata": {
    "execution": {
     "iopub.execute_input": "2022-01-23T10:51:33.837700Z",
     "iopub.status.busy": "2022-01-23T10:51:33.836782Z",
     "iopub.status.idle": "2022-01-23T10:51:33.864101Z",
     "shell.execute_reply": "2022-01-23T10:51:33.864955Z",
     "shell.execute_reply.started": "2022-01-23T10:31:12.220677Z"
    },
    "papermill": {
     "duration": 0.056295,
     "end_time": "2022-01-23T10:51:33.865170",
     "exception": false,
     "start_time": "2022-01-23T10:51:33.808875",
     "status": "completed"
    },
    "tags": []
   },
   "outputs": [],
   "source": [
    "df_asset_details = pd.read_csv(r\"../input/g-research-crypto-forecasting/asset_details.csv\").sort_values(\"Asset_ID\")"
   ]
  },
  {
   "cell_type": "code",
   "execution_count": 3,
   "id": "6b8c8276",
   "metadata": {
    "execution": {
     "iopub.execute_input": "2022-01-23T10:52:38.311288Z",
     "iopub.status.busy": "2022-01-23T10:52:38.310676Z",
     "iopub.status.idle": "2022-01-23T10:52:38.315822Z",
     "shell.execute_reply": "2022-01-23T10:52:38.316367Z",
     "shell.execute_reply.started": "2022-01-23T10:32:31.832776Z"
    },
    "papermill": {
     "duration": 0.032485,
     "end_time": "2022-01-23T10:52:38.316530",
     "exception": false,
     "start_time": "2022-01-23T10:52:38.284045",
     "status": "completed"
    },
    "tags": []
   },
   "outputs": [],
   "source": [
    "def get_weighted_asset_feature(df, col):\n",
    "    df['w'] = df['Asset_ID'].map(df_asset_details.set_index(keys='Asset_ID')['Weight'])\n",
    "    weight_sum = df_asset_details.Weight.sum()\n",
    "    df['W_'+col] = df.w * df[col]\n",
    "    time_group = df.groupby('datetime')\n",
    "    m = time_group['W_'+col].sum() / time_group['w'].sum()\n",
    "    df.set_index(keys=['datetime'], inplace=True)\n",
    "    df['W_'+col] = m\n",
    "    df.reset_index(inplace=True)\n",
    "    return df"
   ]
  },
  {
   "cell_type": "code",
   "execution_count": 4,
   "id": "5aa46b88",
   "metadata": {},
   "outputs": [],
   "source": [
    "def get_data_for_asset(df_train, asset_id):\n",
    "    # Get X and y\n",
    "    \n",
    "    df = df_train[df_train[\"Asset_ID\"] == asset_id]    \n",
    "    df_proc = get_features(df)\n",
    "    df_proc['y'] = df['Target']\n",
    "    #df_proc = df_proc[~df_proc.isin([np.nan, np.inf, -np.inf]).any(1)].reset_index(drop=True)\n",
    "    df_proc = df_proc.dropna(how=\"any\")\n",
    "    \n",
    "    X = df_proc.drop(\"y\", axis=1)\n",
    "    y = df_proc[\"y\"]\n",
    "    \n",
    "    return X, y"
   ]
  },
  {
   "cell_type": "code",
   "execution_count": 5,
   "id": "0a84393f",
   "metadata": {},
   "outputs": [],
   "source": [
    "\n",
    "def get_features(df, row = False):\n",
    "    df_feat = df[['Count', 'Open', 'High', 'Low', 'Close', 'Volume', 'VWAP']].copy()\n",
    "    df_feat['upper_Shadow'] = upper_shadow(df_feat)\n",
    "    df_feat['lower_Shadow'] = lower_shadow(df_feat)\n",
    "    df_feat[\"high_div_low\"] = df_feat[\"High\"] / df_feat[\"Low\"]\n",
    "    df_feat['trade'] = df_feat['Close'] - df_feat['Open']\n",
    "    df_feat['gtrade'] = df_feat['trade'] / df_feat['Count']\n",
    "    df_feat['shadow1'] = df_feat['trade'] / df_feat['Volume']\n",
    "    df_feat['shadow3'] = df_feat['upper_Shadow'] / df_feat['Volume']\n",
    "    df_feat['shadow5'] = df_feat['lower_Shadow'] / df_feat['Volume']\n",
    "    df_feat['diff1'] = df_feat['Volume'] - df_feat['Count']\n",
    "    df_feat['mean1'] = (df_feat['shadow5'] + df_feat['shadow3']) / 2\n",
    "    df_feat['mean2'] = (df_feat['shadow1'] + df_feat['Volume']) / 2\n",
    "    df_feat['mean3'] = (df_feat['trade'] + df_feat['gtrade']) / 2\n",
    "    df_feat['mean4'] = (df_feat['diff1'] + df_feat['upper_Shadow']) / 2\n",
    "    df_feat['mean5'] = (df_feat['diff1'] + df_feat['lower_Shadow']) / 2\n",
    "    return df_feat"
   ]
  },
  {
   "cell_type": "code",
   "execution_count": 6,
   "id": "65858c7d",
   "metadata": {},
   "outputs": [
    {
     "data": {
      "text/html": [
       "<div>\n",
       "<style scoped>\n",
       "    .dataframe tbody tr th:only-of-type {\n",
       "        vertical-align: middle;\n",
       "    }\n",
       "\n",
       "    .dataframe tbody tr th {\n",
       "        vertical-align: top;\n",
       "    }\n",
       "\n",
       "    .dataframe thead th {\n",
       "        text-align: right;\n",
       "    }\n",
       "</style>\n",
       "<table border=\"1\" class=\"dataframe\">\n",
       "  <thead>\n",
       "    <tr style=\"text-align: right;\">\n",
       "      <th></th>\n",
       "      <th>Asset_ID</th>\n",
       "      <th>Weight</th>\n",
       "      <th>Asset_Name</th>\n",
       "    </tr>\n",
       "  </thead>\n",
       "  <tbody>\n",
       "    <tr>\n",
       "      <th>1</th>\n",
       "      <td>0</td>\n",
       "      <td>4.304065</td>\n",
       "      <td>Binance Coin</td>\n",
       "    </tr>\n",
       "    <tr>\n",
       "      <th>2</th>\n",
       "      <td>1</td>\n",
       "      <td>6.779922</td>\n",
       "      <td>Bitcoin</td>\n",
       "    </tr>\n",
       "    <tr>\n",
       "      <th>0</th>\n",
       "      <td>2</td>\n",
       "      <td>2.397895</td>\n",
       "      <td>Bitcoin Cash</td>\n",
       "    </tr>\n",
       "    <tr>\n",
       "      <th>10</th>\n",
       "      <td>3</td>\n",
       "      <td>4.406719</td>\n",
       "      <td>Cardano</td>\n",
       "    </tr>\n",
       "    <tr>\n",
       "      <th>13</th>\n",
       "      <td>4</td>\n",
       "      <td>3.555348</td>\n",
       "      <td>Dogecoin</td>\n",
       "    </tr>\n",
       "    <tr>\n",
       "      <th>3</th>\n",
       "      <td>5</td>\n",
       "      <td>1.386294</td>\n",
       "      <td>EOS.IO</td>\n",
       "    </tr>\n",
       "    <tr>\n",
       "      <th>5</th>\n",
       "      <td>6</td>\n",
       "      <td>5.894403</td>\n",
       "      <td>Ethereum</td>\n",
       "    </tr>\n",
       "    <tr>\n",
       "      <th>4</th>\n",
       "      <td>7</td>\n",
       "      <td>2.079442</td>\n",
       "      <td>Ethereum Classic</td>\n",
       "    </tr>\n",
       "    <tr>\n",
       "      <th>11</th>\n",
       "      <td>8</td>\n",
       "      <td>1.098612</td>\n",
       "      <td>IOTA</td>\n",
       "    </tr>\n",
       "    <tr>\n",
       "      <th>6</th>\n",
       "      <td>9</td>\n",
       "      <td>2.397895</td>\n",
       "      <td>Litecoin</td>\n",
       "    </tr>\n",
       "    <tr>\n",
       "      <th>12</th>\n",
       "      <td>10</td>\n",
       "      <td>1.098612</td>\n",
       "      <td>Maker</td>\n",
       "    </tr>\n",
       "    <tr>\n",
       "      <th>7</th>\n",
       "      <td>11</td>\n",
       "      <td>1.609438</td>\n",
       "      <td>Monero</td>\n",
       "    </tr>\n",
       "    <tr>\n",
       "      <th>9</th>\n",
       "      <td>12</td>\n",
       "      <td>2.079442</td>\n",
       "      <td>Stellar</td>\n",
       "    </tr>\n",
       "    <tr>\n",
       "      <th>8</th>\n",
       "      <td>13</td>\n",
       "      <td>1.791759</td>\n",
       "      <td>TRON</td>\n",
       "    </tr>\n",
       "  </tbody>\n",
       "</table>\n",
       "</div>"
      ],
      "text/plain": [
       "    Asset_ID    Weight        Asset_Name\n",
       "1          0  4.304065      Binance Coin\n",
       "2          1  6.779922           Bitcoin\n",
       "0          2  2.397895      Bitcoin Cash\n",
       "10         3  4.406719           Cardano\n",
       "13         4  3.555348          Dogecoin\n",
       "3          5  1.386294            EOS.IO\n",
       "5          6  5.894403          Ethereum\n",
       "4          7  2.079442  Ethereum Classic\n",
       "11         8  1.098612              IOTA\n",
       "6          9  2.397895          Litecoin\n",
       "12        10  1.098612             Maker\n",
       "7         11  1.609438            Monero\n",
       "9         12  2.079442           Stellar\n",
       "8         13  1.791759              TRON"
      ]
     },
     "execution_count": 6,
     "metadata": {},
     "output_type": "execute_result"
    }
   ],
   "source": [
    "df_asset_details = pd.read_csv(r\"../input/g-research-crypto-forecasting/asset_details.csv\").sort_values(\"Asset_ID\")\n",
    "df_asset_details"
   ]
  },
  {
   "cell_type": "code",
   "execution_count": 7,
   "id": "c8aa9e80",
   "metadata": {},
   "outputs": [],
   "source": [
    "modellist_lgb = []\n",
    "for fold in range(4):\n",
    "    model_name = f\"{modelpath}/lgb_fold{fold}.txt\"\n",
    "    model = lgb.Booster(model_file=model_name) \n",
    "    modellist_lgb.append(model)\n"
   ]
  },
  {
   "cell_type": "code",
   "execution_count": 8,
   "id": "a31cbeff",
   "metadata": {},
   "outputs": [],
   "source": [
    "features = model.feature_name()"
   ]
  },
  {
   "cell_type": "code",
   "execution_count": 9,
   "id": "63105c07",
   "metadata": {},
   "outputs": [],
   "source": [
    "\n",
    "modellist_cat = []\n",
    "for fold in range(4):\n",
    "    model_name = f\"{modelpath}/cat_fold{fold}.pkl\"\n",
    "    model = pickle.load(open(model_name, \"rb\"))\n",
    "    modellist_cat.append(model)"
   ]
  },
  {
   "cell_type": "code",
   "execution_count": 10,
   "id": "8a85aaae",
   "metadata": {},
   "outputs": [],
   "source": [
    "\n",
    "def hist_fea(df_test_keep,test_df,num,colname):\n",
    "    tmp = df_test_keep[-num-1][['Asset_ID',colname]]\n",
    "    tmp = tmp.rename(columns = {colname:f'{colname}{num}'})\n",
    "    test_df = pd.merge(test_df,tmp,how='left',on=['Asset_ID'])\n",
    "    test_df[f'{colname}_now_{num}'] = test_df[f'{colname}{num}']/test_df[colname]\n",
    "    test_df[\"datetime\"] = pd.to_datetime(test_df[\"timestamp\"], unit=\"s\")\n",
    "    del test_df[f'{colname}{num}']\n",
    "    return test_df"
   ]
  },
  {
   "cell_type": "code",
   "execution_count": 11,
   "id": "44be2c04",
   "metadata": {},
   "outputs": [],
   "source": [
    "def asset_feature(df, col):\n",
    "    df['w'] = df['Asset_ID'].map(df_asset_details.set_index(keys='Asset_ID')['Weight'])\n",
    "    weight_sum = df_asset_details.Weight.sum()\n",
    "    df['W_'+col] = df.w * df[col]\n",
    "    time_group = df.groupby('datetime')\n",
    "    m = time_group['W_'+col].sum() / time_group['w'].sum()\n",
    "    df.set_index(keys=['datetime'], inplace=True)\n",
    "    df['W_'+col] = m\n",
    "    df.reset_index(inplace=True)\n",
    "    return df"
   ]
  },
  {
   "cell_type": "code",
   "execution_count": null,
   "id": "38086de2",
   "metadata": {},
   "outputs": [],
   "source": []
  },
  {
   "cell_type": "code",
   "execution_count": 12,
   "id": "3772a8e7",
   "metadata": {
    "execution": {
     "iopub.execute_input": "2022-01-23T10:52:56.851939Z",
     "iopub.status.busy": "2022-01-23T10:52:56.850906Z",
     "iopub.status.idle": "2022-01-23T10:52:56.879194Z",
     "shell.execute_reply": "2022-01-23T10:52:56.879775Z",
     "shell.execute_reply.started": "2022-01-23T10:34:26.590985Z"
    },
    "papermill": {
     "duration": 0.061924,
     "end_time": "2022-01-23T10:52:56.879938",
     "exception": false,
     "start_time": "2022-01-23T10:52:56.818014",
     "status": "completed"
    },
    "tags": []
   },
   "outputs": [
    {
     "ename": "ModuleNotFoundError",
     "evalue": "No module named 'gresearch_crypto'",
     "output_type": "error",
     "traceback": [
      "\u001b[0;31m---------------------------------------------------------------------------\u001b[0m",
      "\u001b[0;31mModuleNotFoundError\u001b[0m                       Traceback (most recent call last)",
      "\u001b[0;32m<ipython-input-12-b98df35b20b2>\u001b[0m in \u001b[0;36m<module>\u001b[0;34m\u001b[0m\n\u001b[0;32m----> 1\u001b[0;31m \u001b[0;32mimport\u001b[0m \u001b[0mgresearch_crypto\u001b[0m\u001b[0;34m\u001b[0m\u001b[0;34m\u001b[0m\u001b[0m\n\u001b[0m\u001b[1;32m      2\u001b[0m \u001b[0menv\u001b[0m \u001b[0;34m=\u001b[0m \u001b[0mgresearch_crypto\u001b[0m\u001b[0;34m.\u001b[0m\u001b[0mmake_env\u001b[0m\u001b[0;34m(\u001b[0m\u001b[0;34m)\u001b[0m\u001b[0;34m\u001b[0m\u001b[0;34m\u001b[0m\u001b[0m\n\u001b[1;32m      3\u001b[0m \u001b[0miter_test\u001b[0m \u001b[0;34m=\u001b[0m \u001b[0menv\u001b[0m\u001b[0;34m.\u001b[0m\u001b[0miter_test\u001b[0m\u001b[0;34m(\u001b[0m\u001b[0;34m)\u001b[0m\u001b[0;34m\u001b[0m\u001b[0;34m\u001b[0m\u001b[0m\n\u001b[1;32m      4\u001b[0m \u001b[0;34m\u001b[0m\u001b[0m\n",
      "\u001b[0;31mModuleNotFoundError\u001b[0m: No module named 'gresearch_crypto'"
     ]
    }
   ],
   "source": [
    "import gresearch_crypto\n",
    "env = gresearch_crypto.make_env()\n",
    "iter_test = env.iter_test()\n",
    "\n"
   ]
  },
  {
   "cell_type": "code",
   "execution_count": null,
   "id": "9c444787",
   "metadata": {
    "execution": {
     "iopub.execute_input": "2022-01-23T10:52:57.017752Z",
     "iopub.status.busy": "2022-01-23T10:52:57.017075Z",
     "iopub.status.idle": "2022-01-23T10:54:02.434326Z",
     "shell.execute_reply": "2022-01-23T10:54:02.433807Z",
     "shell.execute_reply.started": "2022-01-23T10:34:27.132639Z" 
    },
    "papermill": {
     "duration": 65.457024,
     "end_time": "2022-01-23T10:54:02.434473",
     "exception": false,
     "start_time": "2022-01-23T10:52:56.977449",
     "status": "completed"
    },
    "tags": []
   },
   "outputs": [],
   "source": [
    "import time\n",
    "t1 = time.time()\n",
    "result = []\n",
    "for i,(test_df, df_pred) in enumerate(iter_test):\n",
    "    if i == 0:\n",
    "        dftrain = pd.read_csv(\"../input/g-research-crypto-forecasting/train.csv\")\n",
    "        dftrain_add = pd.read_csv(\"../input/g-research-crypto-forecasting/supplemental_train.csv\")\n",
    "        dftrain_add = dftrain_add[dftrain_add.timestamp>dftrain.timestamp.max()]\n",
    "        dftrain = pd.concat([dftrain,dftrain_add]).reset_index(drop=True)\n",
    "        dftrain = dftrain[dftrain.timestamp<test_df.loc[0,'timestamp']].reset_index(drop=True)\n",
    "        df_test_keep = []\n",
    "        for timestamp_tmp in dftrain.timestamp.unique()[-1501:]:\n",
    "            df_test_keep.append(dftrain[dftrain.timestamp==timestamp_tmp])\n",
    "        import gc\n",
    "        del dftrain\n",
    "        gc.collect()\n",
    "\n",
    "    test_predictions = 0\n",
    "    df_test_keep.append(test_df)\n",
    "    df_test_keep = df_test_keep[-1501:]\n",
    "    \n",
    "    \n",
    "    for xx in [15,30,60,90,150,600,1500]:\n",
    "        test_df = hist_fea(df_test_keep,test_df,xx,'Close')\n",
    "        test_df = hist_fea(df_test_keep,test_df,xx,'Volume')\n",
    "\n",
    "    test_df = asset_feature(test_df, 'Close_now_15')\n",
    "\n",
    "    y_pred = 0\n",
    "    for model in modellist_lgb[:3]+modellist_cat[2:]:\n",
    "        y_pred += model.predict(test_df[features])/len(modellist_lgb[:3]+modellist_cat[2:])\n",
    "\n",
    "    df_pred['Target'] = y_pred\n",
    "\n",
    "    env.predict(df_pred)\n",
    "        "
   ]
  },
  {
   "cell_type": "code",
   "execution_count": null,
   "id": "aface60d",
   "metadata": {
    "papermill": {
     "duration": 0.030608,
     "end_time": "2022-01-23T10:54:02.574326",
     "exception": false,
     "start_time": "2022-01-23T10:54:02.543718",
     "status": "completed"
    },
    "tags": []
   },
   "outputs": [],
   "source": []
  }
 ],
 "metadata": {
  "kernelspec": {
   "display_name": "Python 3",
   "language": "python",
   "name": "python3"
  },
  "language_info": {
   "codemirror_mode": {
    "name": "ipython",
    "version": 3
   },
   "file_extension": ".py",
   "mimetype": "text/x-python",
   "name": "python",
   "nbconvert_exporter": "python",
   "pygments_lexer": "ipython3",
   "version": "3.8.8"
  },
  "papermill": {
   "default_parameters": {},
   "duration": 160.311236,
   "end_time": "2022-01-23T10:54:03.516122",
   "environment_variables": {},
   "exception": null,
   "input_path": "__notebook__.ipynb",
   "output_path": "__notebook__.ipynb",
   "parameters": {},
   "start_time": "2022-01-23T10:51:23.204886",
   "version": "2.3.3"
  }
 },
 "nbformat": 4,
 "nbformat_minor": 5
}
